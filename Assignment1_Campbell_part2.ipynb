{
 "cells": [
  {
   "cell_type": "code",
   "execution_count": 1,
   "metadata": {},
   "outputs": [],
   "source": [
    "# linear algebra\n",
    "import numpy as np \n",
    "\n",
    "# import data processing\n",
    "import pandas as pd\n",
    "from pandas import DataFrame\n",
    "\n",
    "# importing other packages which may be essential in the future.\n",
    "import os\n",
    "from collections import Counter\n",
    "import re"
   ]
  },
  {
   "cell_type": "code",
   "execution_count": 2,
   "metadata": {},
   "outputs": [
    {
     "name": "stderr",
     "output_type": "stream",
     "text": [
      "[nltk_data] Downloading package words to /Users/magimac/nltk_data...\n",
      "[nltk_data]   Package words is already up-to-date!\n",
      "[nltk_data] Downloading package wordnet to /Users/magimac/nltk_data...\n",
      "[nltk_data]   Package wordnet is already up-to-date!\n"
     ]
    }
   ],
   "source": [
    "# impot nltk and all the important packages\n",
    "import nltk\n",
    "nltk.download('words')\n",
    "from nltk.corpus import words\n",
    "from nltk.corpus import wordnet\n",
    "correct_spelling = words.words()\n",
    "from nltk.tokenize import sent_tokenize, word_tokenize\n",
    "from nltk.stem import WordNetLemmatizer \n",
    "nltk.download('wordnet')\n",
    "from nltk.stem import WordNetLemmatizer\n",
    "from nltk.metrics.distance import (\n",
    "    edit_distance,\n",
    "    jaccard_distance,\n",
    "    )\n",
    "from nltk.util import ngrams\n"
   ]
  },
  {
   "cell_type": "code",
   "execution_count": 3,
   "metadata": {},
   "outputs": [],
   "source": [
    "# doing some preliminary work\n",
    "\n",
    "correct_spellings = words.words()\n",
    "spellings_series = pd.Series(correct_spellings) # retriving all words and how theyre spelt\n",
    "\n",
    "# verifying that it was done correctly; then it is commented out.\n",
    "# spellings_series"
   ]
  },
  {
   "cell_type": "code",
   "execution_count": 6,
   "metadata": {},
   "outputs": [
    {
     "name": "stdout",
     "output_type": "stream",
     "text": [
      "Please input word: pusillanimous\n",
      "Your word was correctly spelled friend!\n"
     ]
    }
   ],
   "source": [
    "# here we will make a recommender and spell checker\n",
    "\n",
    "input_word = str(input(\"Please input word: \"))\n",
    "input_word_lower = input_word.lower()\n",
    "first_letter = input_word_lower[0]\n",
    "\n",
    "\n",
    "if input_word_lower in correct_spellings:\n",
    "    print(\"Your word was correctly spelled friend!\")\n",
    "else:\n",
    "    corrected_words=[]\n",
    "    for word in correct_spellings:\n",
    "        if word.startswith(first_letter):\n",
    "            corrected_words.append((word, edit_distance(input_word, word)))\n",
    "    corrected_words = sorted(corrected_words, key=lambda x: x[1], reverse=False)\n",
    "    print(f\" I cannot find word you are looking for Friend. Can I suggest these words which are closely related:\\n\\\n",
    "        {corrected_words[0][0]}\\n\\\n",
    "        {corrected_words[1][0]}\\n\\\n",
    "        {corrected_words[2][0]}\\n\\\n",
    "        {corrected_words[3][0]}\\n\\\n",
    "        {corrected_words[4][0]}\")"
   ]
  }
 ],
 "metadata": {
  "kernelspec": {
   "display_name": "Python 3",
   "language": "python",
   "name": "python3"
  },
  "language_info": {
   "codemirror_mode": {
    "name": "ipython",
    "version": 3
   },
   "file_extension": ".py",
   "mimetype": "text/x-python",
   "name": "python",
   "nbconvert_exporter": "python",
   "pygments_lexer": "ipython3",
   "version": "3.7.6"
  }
 },
 "nbformat": 4,
 "nbformat_minor": 4
}
